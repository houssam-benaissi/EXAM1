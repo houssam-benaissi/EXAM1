{
 "cells": [
  {
   "cell_type": "code",
   "execution_count": 14,
   "metadata": {},
   "outputs": [],
   "source": [
    "from math import *\n",
    "\n",
    "def bonus(s):\n",
    "    s = int(input('donner la valeur de Prix actuel de l’action'))\n",
    "    x = int(input('donner la valeur de Prix d’exercice de l’option'))\n",
    "    t = float(input('donner la valeur de Temps restant avant l’expiration de l’option, en pourcentage d’une année'))\n",
    "    r = int(input('donner la valeur de Taux d’intérêt sans risque'))\n",
    "    o = float(input('donner la valeur de volatilité implicite du prix de l’action, mesurée par un décimal'))\n",
    "    \n",
    "    d1 = (log(s/x) + ((r / 100)+o**2 /2) * t)/(o * sqrt(t))\n",
    "    print(d1)\n",
    "    d2 = (log(s/x) + ((r / 100)-o**2 /2) * t)/(o * sqrt(t))\n",
    "    print(d2)\n",
    "    \n",
    "    c = (s * d1) - (x * exp(-r*t) * d2)\n",
    "    print(c)\n",
    "    p = (x * exp(-r*t) *(-d2)) - (s * (-d1))\n",
    "    print(p)"
   ]
  },
  {
   "cell_type": "code",
   "execution_count": 15,
   "metadata": {},
   "outputs": [
    {
     "name": "stdout",
     "output_type": "stream",
     "text": [
      "donner la valeur de Prix actuel de l’action35\n",
      "donner la valeur de Prix d’exercice de l’option40\n",
      "donner la valeur de Temps restant avant l’expiration de l’option, en pourcentage d’une année0.2466\n",
      "donner la valeur de Taux d’intérêt sans risque2\n",
      "donner la valeur de volatilité implicite du prix de l’action, mesurée par un décimal0.25\n",
      "-0.9737895785545366\n",
      "-1.097936668733888\n",
      "-7.263594344008808\n",
      "-7.263594344008808\n"
     ]
    }
   ],
   "source": [
    "bonus(5)"
   ]
  },
  {
   "cell_type": "code",
   "execution_count": null,
   "metadata": {},
   "outputs": [],
   "source": []
  }
 ],
 "metadata": {
  "kernelspec": {
   "display_name": "Python 3",
   "language": "python",
   "name": "python3"
  },
  "language_info": {
   "codemirror_mode": {
    "name": "ipython",
    "version": 3
   },
   "file_extension": ".py",
   "mimetype": "text/x-python",
   "name": "python",
   "nbconvert_exporter": "python",
   "pygments_lexer": "ipython3",
   "version": "3.8.5"
  }
 },
 "nbformat": 4,
 "nbformat_minor": 4
}
