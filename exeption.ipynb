{
 "cells": [
  {
   "cell_type": "code",
   "execution_count": 36,
   "metadata": {},
   "outputs": [],
   "source": [
    "def polynomee(a):\n",
    "    c = 0\n",
    "    if type(a) == str:\n",
    "        while (a.isalpha() == True):\n",
    "            a = input('rentrer une valeur numérique non character ou chaine de character')\n",
    "            for j in range(len(a)):\n",
    "                if a[j] == '+':\n",
    "                    c=1\n",
    "                    break\n",
    "    if c == 0:  # si la chaine ne contient pas un + donc c'est un entier\n",
    "        a = int(a)\n",
    "    else:   # sinon si elle contient un + donc c'est un complex\n",
    "        a = complex(a)\n",
    "    if (type(a) == complex):\n",
    "        while type(a) == complex:\n",
    "            a = int(input('donner une valeur de type entier non de type complex'))\n",
    "    if a < 0:\n",
    "        print('valeur négatif')\n",
    "        while a < 0:\n",
    "            a = int(input('donner une valeur positif'))\n",
    "    if a < 5:\n",
    "        print('valeur trés petit')\n",
    "        while a < 5:\n",
    "            a = int(input('donner une valeur plus que 5'))\n",
    "    if (a > 500):\n",
    "        print('valeur tres grand')\n",
    "        while a > 500:\n",
    "            a = int(input('donner une valeur mois de 500'))\n",
    "    Res = a**3 - 1.5 * a**2 - 6 * a + 5\n",
    "    return (Res)\n",
    "            \n",
    "    \n",
    "    "
   ]
  },
  {
   "cell_type": "code",
   "execution_count": 37,
   "metadata": {},
   "outputs": [
    {
     "name": "stdout",
     "output_type": "stream",
     "text": [
      "rentrer une valeur numérique non character ou chaine de character3+5j\n",
      "donner une valeur de type entier non de type complex5\n"
     ]
    },
    {
     "data": {
      "text/plain": [
       "62.5"
      ]
     },
     "execution_count": 37,
     "metadata": {},
     "output_type": "execute_result"
    }
   ],
   "source": [
    "polynomee('r')"
   ]
  },
  {
   "cell_type": "code",
   "execution_count": null,
   "metadata": {},
   "outputs": [],
   "source": []
  },
  {
   "cell_type": "code",
   "execution_count": null,
   "metadata": {},
   "outputs": [],
   "source": []
  },
  {
   "cell_type": "code",
   "execution_count": null,
   "metadata": {},
   "outputs": [],
   "source": []
  }
 ],
 "metadata": {
  "kernelspec": {
   "display_name": "Python 3",
   "language": "python",
   "name": "python3"
  },
  "language_info": {
   "codemirror_mode": {
    "name": "ipython",
    "version": 3
   },
   "file_extension": ".py",
   "mimetype": "text/x-python",
   "name": "python",
   "nbconvert_exporter": "python",
   "pygments_lexer": "ipython3",
   "version": "3.8.5"
  }
 },
 "nbformat": 4,
 "nbformat_minor": 4
}
